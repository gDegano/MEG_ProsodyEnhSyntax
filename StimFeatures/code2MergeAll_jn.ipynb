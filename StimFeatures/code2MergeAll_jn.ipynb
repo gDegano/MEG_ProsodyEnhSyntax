{
 "cells": [
  {
   "cell_type": "code",
   "execution_count": 2,
   "id": "08a1eff5",
   "metadata": {},
   "outputs": [],
   "source": [
    "import os\n",
    "import numpy as np\n",
    "import seaborn as sns\n",
    "from praatio import tgio\n",
    "import pandas as pd\n",
    "import json\n",
    "import matplotlib.pyplot as plt\n",
    "from sklearn.linear_model import LinearRegression\n",
    "from scipy.stats import chisquare\n",
    "import time\n",
    "\n",
    "\n",
    "# %matplotlib qt\n",
    "\n",
    "def fillDB_syntAndGpt2(datainp, dataSpacy, dataGpt2, durationList, dataProm, a, mask, speakNN, idxf, cntf, cnt2f):\n",
    "    # Filling the data\n",
    "    datainp['Word'].append(dataSpacy[idxf][0].lower())\n",
    "    datainp['PoS'].append(dataSpacy[idxf][1])\n",
    "\n",
    "    datainp['TypeOfDep'].append(dataSpacy[idxf][7])\n",
    "\n",
    "    cont_flag = 0\n",
    "    if dataSpacy[idxf][1] == 'NOUN':\n",
    "        datainp['PoSClass'].append(1)\n",
    "        cont_flag = 1\n",
    "    elif dataSpacy[idxf][1] == 'VERB':\n",
    "        datainp['PoSClass'].append(2)\n",
    "        cont_flag = 1\n",
    "    elif dataSpacy[idxf][1] == 'ADP':\n",
    "        datainp['PoSClass'].append(3)\n",
    "    elif dataSpacy[idxf][1] == 'DET':\n",
    "        datainp['PoSClass'].append(4)\n",
    "    elif dataSpacy[idxf][1] == 'PRON':\n",
    "        datainp['PoSClass'].append(5)\n",
    "    elif dataSpacy[idxf][1] == 'ADJ':\n",
    "        datainp['PoSClass'].append(6)\n",
    "        cont_flag = 1\n",
    "    elif dataSpacy[idxf][1] == 'ADV':\n",
    "        datainp['PoSClass'].append(7)\n",
    "        cont_flag = 1\n",
    "    else:\n",
    "        datainp['PoSClass'].append(0)\n",
    "\n",
    "    datainp['ContentW'].append(cont_flag)\n",
    "    # if dataSpacy[i][3]>0: # if more than 3 merge\n",
    "    #     datainp['LeftNumber'].append(1)\n",
    "    # else:\n",
    "    #     datainp['LeftNumber'].append(0)\n",
    "\n",
    "    datainp['LeftNumber'].append(dataSpacy[idxf][8])\n",
    "    datainp['Pos2End'].append(dataSpacy[idxf][9])\n",
    "\n",
    "    if dataSpacy[idxf][2] >= 3:  # if more than 3 merge\n",
    "        datainp['NodeRight'].append(3)\n",
    "    else:\n",
    "        datainp['NodeRight'].append(dataSpacy[idxf][2])\n",
    "    if dataSpacy[idxf][3] >= 3:\n",
    "        datainp['NodeLeft'].append(3)\n",
    "    else:\n",
    "        datainp['NodeLeft'].append(dataSpacy[idxf][3])\n",
    "    # adding arc info and type of the sentence\n",
    "    datainp['ArcLen'].append(dataSpacy[idxf][4])\n",
    "    datainp['negationFlag'].append(dataSpacy[idxf][6])\n",
    "\n",
    "    if dataSpacy[i][5] == 1:\n",
    "        datainp['TypeSent'].append('interr')\n",
    "    else:\n",
    "        datainp['TypeSent'].append('decl')\n",
    "\n",
    "    # add gpt2 information (PoS entropy)\n",
    "    datainp['Entropy'].append(dataGpt2['Ent'][cnt2f])\n",
    "    datainp['Start'].append(durationList[cntf][0])\n",
    "    datainp['Stop'].append(durationList[cntf][1])\n",
    "\n",
    "    datainp['ProsodyProm'].append(dataProm[cntf][0])\n",
    "    datainp['ProsodyBound'].append(dataProm[cntf][1])\n",
    "\n",
    "    # add pitch info\n",
    "    datainp['pitchMedian'].append(np.median(a[mask, 1]) / medA)\n",
    "    datainp['pitchMean'].append(np.mean(a[mask, 1]) / medA)\n",
    "    datainp['speak'].append(speakNN)\n",
    "    model = LinearRegression().fit(a[mask, 0].reshape((-1, 1)), a[mask, 1])\n",
    "    datainp['pitchSlope'].append(model.coef_[0])\n",
    "\n",
    "    return datainp\n"
   ]
  },
  {
   "cell_type": "code",
   "execution_count": 3,
   "id": "d435ba31",
   "metadata": {},
   "outputs": [
    {
     "name": "stderr",
     "output_type": "stream",
     "text": [
      "/tmp/ipykernel_3950013/3137138902.py:26: FutureWarning: The frame.append method is deprecated and will be removed from pandas in a future version. Use pandas.concat instead.\n",
      "  dfPitch = dfPitch.append(df2, ignore_index=True)\n"
     ]
    },
    {
     "name": "stdout",
     "output_type": "stream",
     "text": [
      "2680\n",
      "(2550, 21)\n",
      "15.923500375003124\n",
      "DanielKahneman 3.241349697113037\n"
     ]
    },
    {
     "name": "stderr",
     "output_type": "stream",
     "text": [
      "/tmp/ipykernel_3950013/3137138902.py:170: FutureWarning: The frame.append method is deprecated and will be removed from pandas in a future version. Use pandas.concat instead.\n",
      "  df_full = df_full.append(df_temp, ignore_index=True)\n",
      "/tmp/ipykernel_3950013/3137138902.py:26: FutureWarning: The frame.append method is deprecated and will be removed from pandas in a future version. Use pandas.concat instead.\n",
      "  dfPitch = dfPitch.append(df2, ignore_index=True)\n"
     ]
    },
    {
     "name": "stdout",
     "output_type": "stream",
     "text": [
      "2865\n",
      "(2690, 21)\n",
      "17.180014769845183\n",
      "JamesCameron 3.188497304916382\n"
     ]
    },
    {
     "name": "stderr",
     "output_type": "stream",
     "text": [
      "/tmp/ipykernel_3950013/3137138902.py:170: FutureWarning: The frame.append method is deprecated and will be removed from pandas in a future version. Use pandas.concat instead.\n",
      "  df_full = df_full.append(df_temp, ignore_index=True)\n",
      "/tmp/ipykernel_3950013/3137138902.py:26: FutureWarning: The frame.append method is deprecated and will be removed from pandas in a future version. Use pandas.concat instead.\n",
      "  dfPitch = dfPitch.append(df2, ignore_index=True)\n"
     ]
    },
    {
     "name": "stdout",
     "output_type": "stream",
     "text": [
      "3851\n",
      "(3547, 21)\n",
      "15.668947586275413\n",
      "JaneMcGonigal 4.3488664627075195\n",
      "1134\n"
     ]
    },
    {
     "name": "stderr",
     "output_type": "stream",
     "text": [
      "/tmp/ipykernel_3950013/3137138902.py:170: FutureWarning: The frame.append method is deprecated and will be removed from pandas in a future version. Use pandas.concat instead.\n",
      "  df_full = df_full.append(df_temp, ignore_index=True)\n",
      "/tmp/ipykernel_3950013/3137138902.py:26: FutureWarning: The frame.append method is deprecated and will be removed from pandas in a future version. Use pandas.concat instead.\n",
      "  dfPitch = dfPitch.append(df2, ignore_index=True)\n"
     ]
    },
    {
     "name": "stdout",
     "output_type": "stream",
     "text": [
      "(1064, 21)\n",
      "16.369057816146746\n",
      "TomWujec 0.9003493785858154\n"
     ]
    },
    {
     "name": "stderr",
     "output_type": "stream",
     "text": [
      "/tmp/ipykernel_3950013/3137138902.py:170: FutureWarning: The frame.append method is deprecated and will be removed from pandas in a future version. Use pandas.concat instead.\n",
      "  df_full = df_full.append(df_temp, ignore_index=True)\n"
     ]
    }
   ],
   "source": [
    "speakerList = ['DanielKahneman', 'JamesCameron', 'JaneMcGonigal', 'TomWujec']\n",
    "path = '/home/deganog21/Projects/WP_Prosody'\n",
    "# init the features\n",
    "IntiDataFrame_syntax = {'Word': [], 'PoS': [], 'PoSClass': [], 'ContentW': [], 'Entropy': [], 'LeftNumber': [],\n",
    "                        'Pos2End': [], 'ProsodyProm': [], 'ProsodyBound': [], 'NodeRight': [], 'NodeLeft': [],\n",
    "                        'TypeOfDep': [], 'ArcLen': [], 'TypeSent': [], 'negationFlag': [],\n",
    "                        'Start': [], 'Stop': [], 'pitchMedian': [], 'pitchMean': [], 'pitchSlope': [], 'speak': []}\n",
    "dfPitch = pd.DataFrame({'pitch': [], 'speak': []})\n",
    "medianPitch = []\n",
    "\n",
    "cnt_or = 1\n",
    "df_full = pd.DataFrame(data=IntiDataFrame_syntax)\n",
    "\n",
    "for name in speakerList:\n",
    "    timeN = time.time()\n",
    "    a = np.load(os.path.join(path, 'AlignedTeds', name + 'Pitch.npy'))\n",
    "    # cutting aout the first seconds...\n",
    "    cut = 300\n",
    "    speakNN = ['sp' + str(cnt_or)] * len(a[cut:, 1])\n",
    "    df2 = pd.DataFrame({'pitch': a[cut:, 1], 'speak': speakNN})\n",
    "    medA = np.median(a[cut:, 1])\n",
    "    medianPitch.append(medA)\n",
    "\n",
    "    # g = sns.relplot(x=\"time\", y=\"pitch\", kind=\"line\", data=df)\n",
    "    # g.fig.autofmt_xdate()\n",
    "    dfPitch = dfPitch.append(df2, ignore_index=True)\n",
    "    cnt_or = cnt_or + 1\n",
    "\n",
    "    # load forced aligned data\n",
    "    inputFN = os.path.join(path, 'AlignedTeds', name + '_2010_GD.TextGrid')\n",
    "    tg = tgio.openTextgrid(inputFN)\n",
    "\n",
    "    entryList = tg.tierDict[\"words\"].entryList\n",
    "    wordTier = tg.tierDict['words']\n",
    "\n",
    "    # I just want the labels from the entryList\n",
    "    labelList = [entry[2] for entry in wordTier.entryList]\n",
    "    # Get the duration of each interval\n",
    "    # (in this example, an interval is a word, so this outputs word duration)\n",
    "    durationList = []\n",
    "    for start, stop, _ in wordTier.entryList:\n",
    "        durationList.append([start, stop])\n",
    "\n",
    "    # load prominance data\n",
    "    f = open(os.path.join(path, 'ProminanceDetection', name + '_2010.prom'), 'r')\n",
    "    lines = f.readlines()\n",
    "    dataProm = []\n",
    "    for x in lines:\n",
    "        dataProm.append([float(x.split()[4]), float(x.split()[5])])\n",
    "    f.close()\n",
    "\n",
    "    # load dependencies\n",
    "    with open(os.path.join(path, 'AlignedTeds', name + '_Spacy2tags_reduce_2010.txt')) as json_file:\n",
    "        dataSpacy = json.load(json_file)\n",
    "\n",
    "    dataGpt2 = pd.read_pickle(os.path.join(path, 'AlignedTeds', name + '_gpt2_ent.pkl'))\n",
    "\n",
    "    list2roll = dataGpt2['Ent'].tolist()\n",
    "    # shifting by one the list... need to be the lock on the word not on the previuos prediction\n",
    "    from scipy import stats\n",
    "\n",
    "    firstEnt = stats.entropy(1 / 18 * np.ones(18))\n",
    "    list2roll.insert(0, firstEnt)\n",
    "    list2roll.pop(-1)\n",
    "\n",
    "    dataGpt2['Ent'] = list2roll\n",
    "\n",
    "    # correcting mistakes\n",
    "    if name == 'DanielKahneman':\n",
    "        idx = 780\n",
    "        dataSpacy[idx][0] = 'B'\n",
    "\n",
    "    if name == 'JaneMcGonigal':\n",
    "        idx = 2\n",
    "        labelList[idx] = 'mcgonigal'\n",
    "\n",
    "        idx = 1416\n",
    "        labelList.insert(idx, '\\'s')\n",
    "        durationList.insert(idx, [durationList[idx - 1][1], durationList[idx + 1][0]])\n",
    "        dataProm.insert(idx, [dataProm[idx - 1][0], dataProm[idx - 1][1]])\n",
    "\n",
    "        idx = 1411\n",
    "        dataSpacy[idx][0] = '10080'\n",
    "\n",
    "        idx = 3503\n",
    "        dataSpacy[idx][0] = '8000'\n",
    "\n",
    "    if name == 'TomWujec':\n",
    "        idx = 407\n",
    "        dataSpacy[idx][0] = 'inc'\n",
    "\n",
    "        idx = 999\n",
    "        dataSpacy[idx][0] = 'marshmallowchallengecom'\n",
    "\n",
    "    # % Merging aligner, spacy and gtp2 data\n",
    "\n",
    "    cnt = 0\n",
    "    cnt2 = 0\n",
    "    flagSkip = 0\n",
    "\n",
    "    dataxx = {'Word': [], 'PoS': [], 'PoSClass': [], 'Entropy': [], 'ContentW': [], 'ProsodyProm': [], 'Pos2End': [],\n",
    "              'LeftNumber': [], 'ProsodyBound': [], 'NodeRight': [], 'NodeLeft': [], 'TypeOfDep': [], 'ArcLen': [],\n",
    "              'TypeSent': [], 'negationFlag': [],\n",
    "              'Start': [], 'Stop': [], 'pitchMedian': [], 'pitchMean': [], 'pitchSlope': [], 'speak': []}\n",
    "    print(len(dataSpacy))\n",
    "\n",
    "    for i in range(len(dataSpacy)):\n",
    "\n",
    "        # IMPORTANT!!!! flag to deal with the splitting tokens (she's = she + 's). I am removing it to avoid issus with incorrect timing\n",
    "        if flagSkip == 1:\n",
    "            flagSkip = 0\n",
    "            cnt2 += 1\n",
    "            continue\n",
    "        flag = 1\n",
    "        flagSpace = (dataSpacy[i][1] != 'SPACE' and dataSpacy[i][0] != '--')\n",
    "        # flag to deal with skipping word because of out of dic in aligner ('unk').. goes for a search in the next 10 tokens\n",
    "        flg50 = 0\n",
    "        # counter of the aligner\n",
    "        cntOrig = cnt\n",
    "        # counter for the gpt2\n",
    "        cntOrig2 = cnt2\n",
    "        # if flagSpace:\n",
    "        #      print(dataSpacy[i][0].lower(),labelList[cnt].lower(),dataGpt2['Word'][cnt2].lower())\n",
    "        #      print(i,cnt,cnt2)\n",
    "        while (flag and flagSpace):\n",
    "            # remove further punctuation (not of interest)\n",
    "            if dataGpt2['Word'][cnt2] == '' or dataGpt2['Word'][cnt2] == '--' or dataGpt2['Word'][cnt2] == '\"' or \\\n",
    "                    dataGpt2['Word'][cnt2] == '\\n':\n",
    "                cnt2 += 1\n",
    "            # check comparison between gpt2 and spacy\n",
    "            if dataSpacy[i][0].lower() == dataGpt2['Word'][cnt2].lower():\n",
    "                if dataSpacy[i][0].lower() == labelList[cnt].lower():\n",
    "                    flag = 0\n",
    "                    mask = (a[:, 0] < durationList[cnt][1]) & (a[:, 0] > durationList[cnt][0])\n",
    "                    if np.any(mask):\n",
    "                        fillDB_syntAndGpt2(dataxx, dataSpacy, dataGpt2, durationList, dataProm, a, mask, speakNN, i,\n",
    "                                           cnt, cnt2)\n",
    "                        # print(dataSpacy[i][0].lower(),labelList[cnt].lower(),dataGpt2['Word'][cnt2].lower())\n",
    "                    cnt += 1\n",
    "                    cnt2 += 1\n",
    "                # check if the missign congruency is because of splitted token (she's = she + 's)\n",
    "                elif dataSpacy[i][0].lower() + dataSpacy[i + 1][0].lower() == labelList[cnt].lower():\n",
    "                    flag = 0\n",
    "                    cnt += 1\n",
    "                    cnt2 += 1\n",
    "                    flagSkip = 1\n",
    "                # IMPORTANT!!! if aligner did not recognize the word ('unk') I am removing it\n",
    "                elif (flg50 == 10 and labelList[cntOrig].lower() == '<unk>'):\n",
    "                    flag = 0\n",
    "\n",
    "                    mask = (a[:, 0] < durationList[cnt][1]) & (a[:, 0] > durationList[cnt][0])\n",
    "                    if np.any(mask):\n",
    "                        fillDB_syntAndGpt2(dataxx, dataSpacy, dataGpt2, durationList, dataProm, a, mask, speakNN, i,\n",
    "                                           cnt, cnt2)\n",
    "\n",
    "                    cnt = cntOrig + 1\n",
    "                    cnt2 = cntOrig2 + 1\n",
    "\n",
    "                else:\n",
    "                    cnt += 1\n",
    "                    flg50 += 1\n",
    "            else:\n",
    "                cnt2 += 1\n",
    "\n",
    "    # add the speaker data to the dataframe            \n",
    "    df_temp = pd.DataFrame(data=dataxx)\n",
    "    print(df_temp.shape)\n",
    "\n",
    "    print(df_temp['Start'][0])\n",
    "    df_full = df_full.append(df_temp, ignore_index=True)\n",
    "    print(name + ' ' + str(time.time() - timeN))\n",
    "\n",
    "    your_keys = ['Entropy', 'NodeLeft', 'NodeRight', 'Start', 'Stop', 'LeftNumber', 'ContentW', 'pitchMean', 'PoSClass',\n",
    "                 'ProsodyProm', 'ProsodyBound', 'TypeOfDep', 'Pos2End']\n",
    "    datatoSave = {your_key: dataxx[your_key] for your_key in your_keys}\n",
    "\n",
    "    del dataxx\n",
    "\n",
    "    # a_file = open(os.path.join(path,'AlignedTeds',name+'_2010_fulldb_reduce.json'), \"w\")\n",
    "    # json.dump(datatoSave, a_file, indent=4)\n",
    "    # a_file.close()\n"
   ]
  },
  {
   "cell_type": "code",
   "execution_count": 4,
   "id": "69e3e24f",
   "metadata": {},
   "outputs": [
    {
     "name": "stdout",
     "output_type": "stream",
     "text": [
      "%%%%%%%%%%%%%%%%%%%%%%%%%%%%%%%%%%%%\n",
      "Plots and stats\n",
      "1723\n"
     ]
    }
   ],
   "source": [
    "# %% Plotting\n",
    "print('%%%%%%%%%%%%%%%%%%%%%%%%%%%%%%%%%%%%')\n",
    "print('Plots and stats')\n",
    "print(len(pd.unique(df_full['Word'])))\n",
    "\n",
    "# sns.catplot(x=\"LeftNumber\", y=\"ProsodyBound\", kind=\"violin\", data=df_full)\n",
    "\n",
    "# sns.set(font_scale = 2)\n",
    "\n",
    "# sns.displot(df_full, x=\"ProsodyBound\", hue=\"LeftNumber\",kind=\"kde\",common_norm=False,palette=(\"PuOr\"))\n",
    "\n",
    "# sns.displot(df_full.query('Pos2End<0 & ProsodyBound>0'),hue='LeftNumber', x=\"ProsodyBound\", kind=\"kde\",palette=(\"PuOr\"))\n",
    "# plt.savefig(path+'/images/distribution.svg', format='svg')\n",
    "\n",
    "df_full['Duration']= df_full['Stop']-df_full['Start']\n",
    "df_full['DurationS']= df_full['Duration'].shift(periods=-1)\n",
    "subset_df = df_full.query('Pos2End<0 and ProsodyBound>0 and DurationS>.1')"
   ]
  },
  {
   "cell_type": "code",
   "execution_count": 5,
   "id": "a701e988",
   "metadata": {},
   "outputs": [
    {
     "data": {
      "image/png": "[encoded data removed]",
      "text/plain": [
       "<Figure size 432x288 with 1 Axes>"
      ]
     },
     "metadata": {
      "needs_background": "light"
     },
     "output_type": "display_data"
    },
    {
     "name": "stdout",
     "output_type": "stream",
     "text": [
      "1.009924924924925\n"
     ]
    }
   ],
   "source": [
    "# %% Gamma mixture\n",
    "from pomegranate import *\n",
    "\n",
    "X = subset_df['ProsodyBound'].to_numpy().reshape(-1, 1)\n",
    "\n",
    "num_dist = 2\n",
    "model = GeneralMixtureModel.from_samples([GammaDistribution, GammaDistribution], \n",
    "                                         n_components=2,max_kmeans_iterations=10, stop_threshold=.01, X=X)\n",
    "\n",
    "x = np.linspace(min(X), max(X), 1000)\n",
    "logprob = model.log_probability(x.reshape(-1, 1))\n",
    "responsibilities = model.predict_proba(x.reshape(-1, 1))\n",
    "pdf = np.exp(logprob)\n",
    "pdf_individual = responsibilities * pdf[:, np.newaxis]\n",
    "\n",
    "yhat = model.predict(x.reshape(-1, 1))\n",
    "decision = max([x[np.argwhere(yhat == 0)[0]][0][0], x[np.argwhere(yhat == 1)[0]][0][0]])\n",
    "\n",
    "(n, bins, patches)=plt.hist(X, 100,density=True, histtype='stepfilled', alpha=0.4)\n",
    "plt.plot(x, pdf, '-k')\n",
    "plt.plot(x, pdf_individual, '--k')\n",
    "plt.plot([decision,decision], [0, 1.75], 'r')\n",
    "plt.show()\n",
    "\n",
    "\n",
    "print(decision)"
   ]
  },
  {
   "cell_type": "code",
   "execution_count": 10,
   "id": "c9067f16",
   "metadata": {},
   "outputs": [
    {
     "data": {
      "image/png": "[encoded data removed]",
      "text/plain": [
       "<Figure size 432x288 with 1 Axes>"
      ]
     },
     "metadata": {
      "needs_background": "light"
     },
     "output_type": "display_data"
    }
   ],
   "source": [
    "\n",
    "n=100\n",
    "xt = np.linspace(min(X), max(X), n)\n",
    "RSS=np.zeros((5,))\n",
    "BIC=np.zeros((5,))\n",
    "AIC=np.zeros((5,))\n",
    "listGamma=[GammaDistribution,GammaDistribution]\n",
    "(nnn, bins, patches)=plt.hist(X, n, density=True)\n",
    "\n",
    "for num_dist in range(2,6):\n",
    "    model = GeneralMixtureModel.from_samples(listGamma, \n",
    "                                             n_components=2,max_kmeans_iterations=10, stop_threshold=.01, X=X)\n",
    "    logprob = model.log_probability(xt.reshape(-1, 1))\n",
    "    \n",
    "    pdf = np.exp(logprob)\n",
    "    resid=np.subtract(pdf, nnn)\n",
    "    RSS[num_dist-1] = np.sum(np.power(resid, 2))\n",
    "    AIC[num_dist-1] = n * np.log(RSS[num_dist-1] / n) + 2 * num_dist*2\n",
    "    \n",
    "    listGamma.append(GammaDistribution)"
   ]
  },
  {
   "cell_type": "code",
   "execution_count": 9,
   "id": "2de9c9e1",
   "metadata": {},
   "outputs": [
    {
     "data": {
      "image/png": "[encoded data removed]",
      "text/plain": [
       "<Figure size 432x288 with 1 Axes>"
      ]
     },
     "metadata": {
      "needs_background": "light"
     },
     "output_type": "display_data"
    }
   ],
   "source": [
    "\n",
    "modelgg=GammaDistribution.from_samples(X)\n",
    "pdfgg = np.exp(logprob)\n",
    "logprob = model.log_probability(xt.reshape(-1, 1))\n",
    "residgg=np.subtract(pdfgg, nnn)\n",
    "RSS[0]= np.sum(np.power(resid, 2))\n",
    "AIC[0] = n * np.log(RSS[0] / n) + 2 * num_dist*2\n",
    "\n",
    "\n",
    "plt.plot(range(5),AIC)\n",
    "plt.show()\n",
    "\n"
   ]
  },
  {
   "cell_type": "code",
   "execution_count": 6,
   "id": "81fc1057",
   "metadata": {},
   "outputs": [
    {
     "data": {
      "image/png": "[encoded data removed]",
      "text/plain": [
       "<Figure size 412x360 with 1 Axes>"
      ]
     },
     "metadata": {
      "needs_background": "light"
     },
     "output_type": "display_data"
    }
   ],
   "source": [
    "# %%\n",
    "\n",
    "from statsmodels.stats.proportion import proportions_ztest\n",
    "\n",
    "XNoLeft = subset_df.query('LeftNumber==0')['ProsodyBound'].to_numpy()\n",
    "XLeft = subset_df.query('LeftNumber==1')['ProsodyBound'].sample(n=len(XNoLeft), random_state=0).to_numpy()\n",
    "\n",
    "dd = {'ProsodyBound': np.concatenate((XNoLeft, XLeft)),\n",
    "      'LeftDep': np.concatenate((np.zeros((len(XNoLeft),)), np.ones((len(XNoLeft),)))),\n",
    "      'Cluster': np.concatenate((XNoLeft > decision, XLeft > decision))}\n",
    "\n",
    "boxPlotRes = pd.DataFrame(dd)\n",
    "\n",
    "x, y = 'Cluster', 'LeftDep'\n",
    "df1 = boxPlotRes.groupby(x)[y].value_counts(normalize=True)\n",
    "df1 = df1.mul(100)\n",
    "df1 = df1.rename('percent').reset_index()\n",
    "\n",
    "g = sns.catplot(x=x, y='percent', hue=y, kind='bar', data=df1)\n",
    "g.ax.set_ylim(0, 100)\n",
    "\n",
    "for p in g.ax.patches:\n",
    "    txt = str(p.get_height().round(2)) + '%'\n",
    "    txt_x = p.get_x()\n",
    "    txt_y = p.get_height()\n",
    "    g.ax.text(txt_x, txt_y, txt)\n",
    "\n",
    "plt.show()"
   ]
  },
  {
   "cell_type": "code",
   "execution_count": 42,
   "id": "3b1f36cd",
   "metadata": {},
   "outputs": [
    {
     "name": "stdout",
     "output_type": "stream",
     "text": [
      "%%%%%% chisquared\n",
      "[340, 748]\n",
      "Power_divergenceResult(statistic=153.0, pvalue=3.83065381956498e-35)\n",
      "[2407, 1999]\n",
      "Power_divergenceResult(statistic=37.781207444394006, pvalue=7.914049136487386e-10)\n",
      "High cluster count 1088\n",
      "Low cluster count 4406\n",
      " \n",
      "%%% Group 1 low stat\n",
      "delta low 3.319\n",
      "meanNorm low 45.060\n",
      "stdNorm low 13.351\n",
      "non central low param 44.060\n",
      " \n",
      "%%% Group 2 high stat\n",
      "delta high 1.649\n",
      "meanNorm high 11.880\n",
      "stdNorm high 6.747\n",
      "non central high param 10.880\n",
      " \n",
      "From https://keisan.casio.com/menu/system/000000000540\n",
      "p low = 6.233 E-14\n",
      "p high = 2.786 E-5\n"
     ]
    }
   ],
   "source": [
    "print('%%%%%% chisquared')\n",
    "\n",
    "group1_chi = boxPlotRes.query('Cluster==True')['LeftDep'].to_numpy()\n",
    "print([sum(group1_chi == 0), sum(group1_chi == 1)])\n",
    "print(chisquare([sum(group1_chi == 0), sum(group1_chi == 1)]))\n",
    "\n",
    "group2_chi = boxPlotRes.query('Cluster==False')['LeftDep'].to_numpy()\n",
    "print([sum(group2_chi == 0), sum(group2_chi == 1)])\n",
    "print(chisquare([sum(group2_chi == 0), sum(group2_chi == 1)]))\n",
    "\n",
    "print('High cluster count {0:0.0f}'.format(len(group1_chi)))\n",
    "print('Low cluster count {0:0.0f}'.format(len(group2_chi)))\n",
    "\n",
    "perc_diff=0.05\n",
    "power=.8\n",
    "print(' ')\n",
    "print('%%% Group 1 low stat')\n",
    "delta=np.sqrt(len(group2_chi))*perc_diff\n",
    "nonCPar=2*delta**2/.5\n",
    "print('delta low {0:0.3f}'.format(delta))\n",
    "print('meanNorm low {0:0.3f}'.format(nonCPar+1))\n",
    "print('stdNorm low {0:0.3f}'.format(np.sqrt(2*(1+2*nonCPar))))\n",
    "print('non central low param {0:0.3f}'.format(nonCPar))\n",
    "\n",
    "delta=np.sqrt(len(group1_chi))*perc_diff\n",
    "nonCPar=2*delta**2/.5\n",
    "print(' ')\n",
    "print('%%% Group 2 high stat')\n",
    "print('delta high {0:0.3f}'.format(delta))\n",
    "print('meanNorm high {0:0.3f}'.format(nonCPar+1))\n",
    "print('stdNorm high {0:0.3f}'.format(np.sqrt(2*(1+2*nonCPar))))\n",
    "print('non central high param {0:0.3f}'.format(nonCPar))\n",
    "\n",
    "print(' ')\n",
    "print('From https://keisan.casio.com/menu/system/000000000540')\n",
    "print('p low = 6.233 E-14')\n",
    "print('p high = 2.786 E-5')\n"
   ]
  },
  {
   "cell_type": "code",
   "execution_count": 15,
   "id": "16cf20cc",
   "metadata": {},
   "outputs": [
    {
     "name": "stdout",
     "output_type": "stream",
     "text": [
      "%%%%%% ztest\n",
      "0.00000\n",
      "0.00000\n"
     ]
    }
   ],
   "source": [
    "print('%%%%%% ztest')\n",
    "\n",
    "count = np.array([sum(group1_chi == 0), sum(group2_chi == 0)])\n",
    "nobs = np.array([len(group1_chi), len(group2_chi)])\n",
    "\n",
    "stat, pval = proportions_ztest(count[0], nobs[0],value=.5)\n",
    "print('{0:0.5f}'.format(pval))\n",
    "\n",
    "stat, pval = proportions_ztest(count[1], nobs[1],value=.5)\n",
    "print('{0:0.5f}'.format(pval))"
   ]
  },
  {
   "cell_type": "code",
   "execution_count": 19,
   "id": "ebe90875",
   "metadata": {},
   "outputs": [
    {
     "data": {
      "text/plain": [
       "(0.3774974506175171, 5.085589108660342e-44)"
      ]
     },
     "execution_count": 19,
     "metadata": {},
     "output_type": "execute_result"
    }
   ],
   "source": [
    "from scipy.stats import fisher_exact\n",
    "\n",
    "table = np.array([[sum(group1_chi == 0), sum(group2_chi == 0)], [sum(group1_chi == 1), sum(group2_chi == 1)]])\n",
    "oddsr, p = fisher_exact(table, alternative='two-sided')\n",
    "oddsr,p"
   ]
  }
 ],
 "metadata": {
  "kernelspec": {
   "display_name": "Python 3 (ipykernel)",
   "language": "python",
   "name": "python3"
  },
  "language_info": {
   "codemirror_mode": {
    "name": "ipython",
    "version": 3
   },
   "file_extension": ".py",
   "mimetype": "text/x-python",
   "name": "python",
   "nbconvert_exporter": "python",
   "pygments_lexer": "ipython3",
   "version": "3.10.4"
  }
 },
 "nbformat": 4,
 "nbformat_minor": 5
}
